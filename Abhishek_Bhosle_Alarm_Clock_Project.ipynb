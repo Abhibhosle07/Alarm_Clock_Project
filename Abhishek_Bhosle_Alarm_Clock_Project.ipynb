{
 "cells": [
  {
   "cell_type": "markdown",
   "id": "6e30fe31",
   "metadata": {},
   "source": [
    "# Alarm Clock Project In Python"
   ]
  },
  {
   "cell_type": "markdown",
   "id": "fd6f746b",
   "metadata": {},
   "source": [
    "Importing all the libraries and modules"
   ]
  },
  {
   "cell_type": "code",
   "execution_count": 11,
   "id": "5f1f7957",
   "metadata": {},
   "outputs": [],
   "source": [
    "#Importing Essantial libraries to form the Alarm Clock\n",
    "from tkinter import *\n",
    "import datetime\n",
    "import time\n",
    "import winsound"
   ]
  },
  {
   "cell_type": "markdown",
   "id": "555b6d5d",
   "metadata": {},
   "source": [
    "Putting forward a while loop which takes the argument of the time, the user wants to set the alarm on and automatically breaks when the time is up, with sound"
   ]
  },
  {
   "cell_type": "code",
   "execution_count": 12,
   "id": "8d43aa44",
   "metadata": {},
   "outputs": [],
   "source": [
    "def alarm(set_alarm_timer):\n",
    "    while True:\n",
    "        time.sleep(1)\n",
    "        current_time = datetime.datetime.now()\n",
    "        now = current_time.strftime('%H: %M: %S')\n",
    "        date = current_time.strftime('%d/%m/%Y')\n",
    "        print('The Set Date is:',date)\n",
    "        print(now)\n",
    "        if now == set_alarm_timer:\n",
    "            print('Time to wake up')\n",
    "        winsound.PlaySound(\"sound.wav\",winsound.SND_ASYNC)\n",
    "        break\n",
    "        \n",
    "def actual_time():\n",
    "    set_alarm_timer = f'{hour.get()}:{min.get()}:{sec.get()}'\n",
    "    alarm(set_alarm_timer)"
   ]
  },
  {
   "cell_type": "markdown",
   "id": "ec11d53a",
   "metadata": {},
   "source": [
    "Displaying window for user input"
   ]
  },
  {
   "cell_type": "code",
   "execution_count": 13,
   "id": "b56abbca",
   "metadata": {},
   "outputs": [],
   "source": [
    "clock = Tk()\n",
    "\n",
    "clock.title('DataFlair Alarm Clock')\n",
    "clock.geometry('400x200')\n",
    "time_format=Label(clock, text= 'Enter time in 24 hour format!', fg='red',bg='black',font= 'Arial').place(x=60,y=120)\n",
    "addTime = Label(clock,text = 'Hour Min Sec',font=60).place(x=110)\n",
    "setYourAlarm = Label(clock,text = 'When to wake you up',fg='blue',relief ='solid',font=('Helevetica',7,'bold')).place(x=0, y=29)\n",
    "\n",
    "# The Variables we require to set the alarm(initialization):\n",
    "hour = StringVar()\n",
    "min = StringVar()\n",
    "sec = StringVar()\n",
    "\n",
    "#Time required to set the alarm clock:\n",
    "hourTime = Entry(clock,textvariable = hour,bg= \"orange\",width = 15).place(x=110,y=30)\n",
    "minTime= Entry(clock,textvariable = min,bg = \"orange\",width = 15).place(x=150,y=30)\n",
    "secTime = Entry(clock,textvariable = sec,bg = \"orange\",width = 15).place(x=200,y=30)\n",
    "\n",
    "\n",
    "#To take the time imput by user:\n",
    "submit = Button(clock,text = 'Set Alarm',fg='red',width = 10,command = actual_time).place(x = 110,y = 70)\n",
    "\n",
    "clock.mainloop()\n",
    "\n",
    "#Execution..."
   ]
  },
  {
   "cell_type": "markdown",
   "id": "21275d0a",
   "metadata": {},
   "source": [
    "Thank You!!!"
   ]
  },
  {
   "cell_type": "code",
   "execution_count": null,
   "id": "5b8de239",
   "metadata": {},
   "outputs": [],
   "source": []
  }
 ],
 "metadata": {
  "kernelspec": {
   "display_name": "Python 3 (ipykernel)",
   "language": "python",
   "name": "python3"
  },
  "language_info": {
   "codemirror_mode": {
    "name": "ipython",
    "version": 3
   },
   "file_extension": ".py",
   "mimetype": "text/x-python",
   "name": "python",
   "nbconvert_exporter": "python",
   "pygments_lexer": "ipython3",
   "version": "3.9.13"
  }
 },
 "nbformat": 4,
 "nbformat_minor": 5
}
